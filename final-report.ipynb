{
 "cells": [
  {
   "cell_type": "code",
   "execution_count": 1,
   "id": "588822f9",
   "metadata": {},
   "outputs": [],
   "source": [
    "# imports\n",
    "\n",
    "import matplotlib.pyplot as plt\n",
    "import numpy as np\n",
    "import pandas as pd\n",
    "import seaborn as sns\n",
    "import math as m\n",
    "\n",
    "import functions as f\n",
    "import functions_m as m\n",
    "import prepare_m as p\n"
   ]
  },
  {
   "cell_type": "markdown",
   "id": "ba07582d",
   "metadata": {},
   "source": [
    "## Having been tasked to identify anomalies in access logs for the Codeup curriculum, we responded to the following questions :  \n",
    "\n",
    "1. Which lesson appears to attract the most traffic consistently across cohorts (per program)?\n",
    "2. Is there a cohort that referred to a lesson significantly more than other cohorts, one that other cohorts seemed to gloss over?\n",
    "3. Are there students who, when active, hardly access the curriculum? If so, what information do you have about these students?\n",
    "4. Is there any suspicious activity, such as users/machines/etc accessing the curriculum who shouldn’t be? Does it appear that any web-scraping is happening? Are there any suspicious IP addresses?\n",
    "5. At some point in 2019, the ability for students and alumni to access both curriculums (web dev to ds, ds to web dev) should have been shut off. Do you see any evidence of that happening? Did it happen before?\n",
    "6. What topics are grads continuing to reference after graduation and into their jobs (for each program)?\n",
    "7. Which lessons are least accessed?\n"
   ]
  },
  {
   "cell_type": "markdown",
   "id": "38f4f86a",
   "metadata": {},
   "source": [
    "### We first performed a MySQL query to obtain the access logs, then turned that information into a .csv file to facilitate future access."
   ]
  },
  {
   "cell_type": "code",
   "execution_count": 2,
   "id": "9723d598",
   "metadata": {},
   "outputs": [],
   "source": [
    "# read the .csv\n",
    "\n",
    "df = pd.read_csv('curriculum_logs.csv', index_col = [0])"
   ]
  },
  {
   "cell_type": "code",
   "execution_count": 3,
   "id": "2ac32062",
   "metadata": {},
   "outputs": [
    {
     "data": {
      "text/html": [
       "<div>\n",
       "<style scoped>\n",
       "    .dataframe tbody tr th:only-of-type {\n",
       "        vertical-align: middle;\n",
       "    }\n",
       "\n",
       "    .dataframe tbody tr th {\n",
       "        vertical-align: top;\n",
       "    }\n",
       "\n",
       "    .dataframe thead th {\n",
       "        text-align: right;\n",
       "    }\n",
       "</style>\n",
       "<table border=\"1\" class=\"dataframe\">\n",
       "  <thead>\n",
       "    <tr style=\"text-align: right;\">\n",
       "      <th></th>\n",
       "      <th>date</th>\n",
       "      <th>time</th>\n",
       "      <th>url_path</th>\n",
       "      <th>user_id</th>\n",
       "      <th>cohort_id</th>\n",
       "      <th>ip</th>\n",
       "      <th>id</th>\n",
       "      <th>name</th>\n",
       "      <th>start_date</th>\n",
       "      <th>end_date</th>\n",
       "      <th>program_id</th>\n",
       "    </tr>\n",
       "  </thead>\n",
       "  <tbody>\n",
       "    <tr>\n",
       "      <th>0</th>\n",
       "      <td>2018-01-26</td>\n",
       "      <td>09:55:03</td>\n",
       "      <td>/</td>\n",
       "      <td>1</td>\n",
       "      <td>8.0</td>\n",
       "      <td>97.105.19.61</td>\n",
       "      <td>8</td>\n",
       "      <td>Hampton</td>\n",
       "      <td>2015-09-22</td>\n",
       "      <td>2016-02-06</td>\n",
       "      <td>1</td>\n",
       "    </tr>\n",
       "  </tbody>\n",
       "</table>\n",
       "</div>"
      ],
      "text/plain": [
       "        date      time url_path  user_id  cohort_id            ip  id  \\\n",
       "0 2018-01-26  09:55:03        /        1        8.0  97.105.19.61   8   \n",
       "\n",
       "      name  start_date    end_date  program_id  \n",
       "0  Hampton  2015-09-22  2016-02-06           1  "
      ]
     },
     "execution_count": 3,
     "metadata": {},
     "output_type": "execute_result"
    }
   ],
   "source": [
    "# clean up df with date-time\n",
    "\n",
    "df = p.to_datetime(df, 'date')\n",
    "df.head(1)"
   ]
  },
  {
   "cell_type": "markdown",
   "id": "dd4aa662",
   "metadata": {},
   "source": [
    "### After cleaning, we started to addresses the issues at hand."
   ]
  },
  {
   "cell_type": "markdown",
   "id": "3c6b2b4c",
   "metadata": {},
   "source": [
    "### 1. Which lesson appears to attract the most traffic consistently across cohorts (per program)?"
   ]
  },
  {
   "cell_type": "code",
   "execution_count": 4,
   "id": "51f22584",
   "metadata": {},
   "outputs": [
    {
     "name": "stdout",
     "output_type": "stream",
     "text": [
      "The most accessed PHP cohort lesson page is javascript-i    736\n",
      "Name: url_path, dtype: int64.\n",
      "The most accessed full-stack java cohort lesson page is javascript-i    17457\n",
      "Name: url_path, dtype: int64.\n",
      "The most accessed data science cohort lesson page is classification/overview    1785\n",
      "Name: url_path, dtype: int64.\n",
      "The most accessed front-end cohort lesson page is content/html-css    2\n",
      "Name: url_path, dtype: int64.\n"
     ]
    }
   ],
   "source": [
    "# find the most accessed lesson per programme\n",
    "\n",
    "m.lesson_most_accessed(df)"
   ]
  },
  {
   "cell_type": "markdown",
   "id": "53810cf4",
   "metadata": {},
   "source": [
    "**TAKEAWAY, QUESTION 1 :**  \n",
    "\n",
    "- The most accessed PHP lesson page is javascript-i, with 736 hits.\n",
    "\n",
    "- The most accessed full-stack java lesson page is javascript-i, with 17457 hits.\n",
    "\n",
    "- The most accessed data science lesson page is classification/overview, with 1785 hits.\n",
    "\n",
    "- The most accessed front-end lesson page is content/html-css, with 2 hits."
   ]
  },
  {
   "cell_type": "markdown",
   "id": "f21f2eb1",
   "metadata": {},
   "source": [
    "### 2. Is there a cohort that referred to a lesson significantly more than other cohorts, one that other cohorts seemed to gloss over?"
   ]
  },
  {
   "cell_type": "code",
   "execution_count": 5,
   "id": "900ff53e",
   "metadata": {},
   "outputs": [],
   "source": [
    "# most-accessed url per cohort\n",
    "\n",
    "#m.url_most_accessed(df)"
   ]
  },
  {
   "cell_type": "markdown",
   "id": "6ee94c6f",
   "metadata": {},
   "source": [
    "**TAKEAWAY, QUESTION 2 :**  \n",
    "\n",
    "The Jupiter cohort had a quite large (1866) number of accesses to the ‘toc’ page. Many cohorts accessed the ‘toc’ page, but Jupiter’s amount of access was notably higher.   \n",
    "\n",
    "The Staff cohort accessed the javascript-i page 1817 times, the next closes access was with the Ceres cohort, at 1003 accesses."
   ]
  },
  {
   "cell_type": "code",
   "execution_count": null,
   "id": "8ca94c85",
   "metadata": {},
   "outputs": [],
   "source": []
  },
  {
   "cell_type": "markdown",
   "id": "fa9350ff",
   "metadata": {},
   "source": [
    "### 3. Are there students who, when active, hardly access the curriculum? If so, what information do you have about these students?"
   ]
  },
  {
   "cell_type": "code",
   "execution_count": null,
   "id": "17e1cc14",
   "metadata": {},
   "outputs": [],
   "source": []
  },
  {
   "cell_type": "code",
   "execution_count": null,
   "id": "d145d084",
   "metadata": {},
   "outputs": [],
   "source": []
  },
  {
   "cell_type": "markdown",
   "id": "b4bde529",
   "metadata": {},
   "source": [
    "### 4. Is there any suspicious activity, such as users/machines/etc accessing the curriculum who shouldn’t be? Does it appear that any web-scraping is happening? Are there any suspicious IP addresses?"
   ]
  },
  {
   "cell_type": "code",
   "execution_count": null,
   "id": "cc3d1232",
   "metadata": {},
   "outputs": [],
   "source": []
  },
  {
   "cell_type": "code",
   "execution_count": null,
   "id": "5056ee75",
   "metadata": {},
   "outputs": [],
   "source": []
  },
  {
   "cell_type": "markdown",
   "id": "b0729ba7",
   "metadata": {},
   "source": [
    "### 5. At some point in 2019, the ability for students and alumni to access both curriculums (web dev to ds, ds to web dev) should have been shut off. Do you see any evidence of that happening? Did it happen before?"
   ]
  },
  {
   "cell_type": "code",
   "execution_count": 6,
   "id": "70070af8",
   "metadata": {},
   "outputs": [
    {
     "name": "stdout",
     "output_type": "stream",
     "text": [
      "<class 'pandas.core.frame.DataFrame'>\n",
      "Int64Index: 847330 entries, 0 to 847329\n",
      "Data columns (total 15 columns):\n",
      " #   Column            Non-Null Count   Dtype         \n",
      "---  ------            --------------   -----         \n",
      " 0   date              847330 non-null  datetime64[ns]\n",
      " 1   time              847330 non-null  object        \n",
      " 2   url_path          847329 non-null  object        \n",
      " 3   user_id           847330 non-null  int64         \n",
      " 4   cohort_id         847330 non-null  float64       \n",
      " 5   ip                847330 non-null  object        \n",
      " 6   id                847330 non-null  int64         \n",
      " 7   name              847330 non-null  object        \n",
      " 8   start_date        847330 non-null  object        \n",
      " 9   end_date          847330 non-null  object        \n",
      " 10  program_id        847330 non-null  int64         \n",
      " 11  php_cohort        847330 non-null  int64         \n",
      " 12  fs_java_cohort    847330 non-null  int64         \n",
      " 13  ds_cohort         847330 non-null  int64         \n",
      " 14  front_end_cohort  847330 non-null  int64         \n",
      "dtypes: datetime64[ns](1), float64(1), int64(7), object(6)\n",
      "memory usage: 103.4+ MB\n"
     ]
    }
   ],
   "source": [
    "df.info()"
   ]
  },
  {
   "cell_type": "code",
   "execution_count": 7,
   "id": "13a11e67",
   "metadata": {},
   "outputs": [
    {
     "name": "stdout",
     "output_type": "stream",
     "text": [
      "             date      time                      url_path  user_id  cohort_id  \\\n",
      "328347 2019-09-23  11:45:09                      java-iii      476       34.0   \n",
      "330826 2019-09-25  19:30:44                  javascript-i      476       34.0   \n",
      "330828 2019-09-25  19:31:07                  javascript-i      476       34.0   \n",
      "330829 2019-09-25  19:31:11                        java-i      476       34.0   \n",
      "330830 2019-09-25  19:31:12                  javascript-i      476       34.0   \n",
      "330831 2019-09-25  19:31:14                        java-i      476       34.0   \n",
      "330832 2019-09-25  19:31:19                       java-ii      476       34.0   \n",
      "330837 2019-09-25  19:32:23                  javascript-i      476       34.0   \n",
      "330838 2019-09-25  19:32:34                        java-i      476       34.0   \n",
      "330839 2019-09-25  19:32:38                        java-i      476       34.0   \n",
      "330840 2019-09-25  19:32:44             java-i/console-io      476       34.0   \n",
      "377469 2019-11-25  14:26:14                  javascript-i      476       34.0   \n",
      "377471 2019-11-25  14:26:16                 javascript-ii      476       34.0   \n",
      "377472 2019-11-25  14:26:17                        java-i      476       34.0   \n",
      "377473 2019-11-25  14:26:18                       java-ii      476       34.0   \n",
      "377475 2019-11-25  14:26:20                      java-iii      476       34.0   \n",
      "377477 2019-11-25  14:26:24                      java-iii      476       34.0   \n",
      "378083 2019-11-26  10:31:16  javascript-i/bom-and-dom/dom      467       34.0   \n",
      "378098 2019-11-26  10:37:35                  javascript-i      476       34.0   \n",
      "378099 2019-11-26  10:37:39                 javascript-ii      476       34.0   \n",
      "378103 2019-11-26  10:38:06                        java-i      476       34.0   \n",
      "378128 2019-11-26  10:55:05                  javascript-i      476       34.0   \n",
      "378562 2019-11-26  15:32:05     javascript-i/conditionals      472       34.0   \n",
      "380297 2019-12-03  10:04:40                  javascript-i      467       34.0   \n",
      "380299 2019-12-03  10:04:48                 javascript-ii      467       34.0   \n",
      "380300 2019-12-03  10:04:48                        java-i      467       34.0   \n",
      "380301 2019-12-03  10:04:49                       java-ii      467       34.0   \n",
      "380306 2019-12-03  10:05:25                      java-iii      467       34.0   \n",
      "380435 2019-12-03  11:49:29                  javascript-i      467       34.0   \n",
      "380438 2019-12-03  11:49:33                 javascript-ii      467       34.0   \n",
      "380439 2019-12-03  11:49:35                       java-ii      467       34.0   \n",
      "387753 2019-12-14  16:46:24                  javascript-i      476       34.0   \n",
      "\n",
      "                   ip  id   name  start_date    end_date  program_id  \\\n",
      "328347   97.105.19.58  34  Bayes  2019-08-19  2020-01-30           3   \n",
      "330826  136.50.49.145  34  Bayes  2019-08-19  2020-01-30           3   \n",
      "330828  136.50.49.145  34  Bayes  2019-08-19  2020-01-30           3   \n",
      "330829  136.50.49.145  34  Bayes  2019-08-19  2020-01-30           3   \n",
      "330830  136.50.49.145  34  Bayes  2019-08-19  2020-01-30           3   \n",
      "330831  136.50.49.145  34  Bayes  2019-08-19  2020-01-30           3   \n",
      "330832  136.50.49.145  34  Bayes  2019-08-19  2020-01-30           3   \n",
      "330837  136.50.49.145  34  Bayes  2019-08-19  2020-01-30           3   \n",
      "330838  136.50.49.145  34  Bayes  2019-08-19  2020-01-30           3   \n",
      "330839  136.50.49.145  34  Bayes  2019-08-19  2020-01-30           3   \n",
      "330840  136.50.49.145  34  Bayes  2019-08-19  2020-01-30           3   \n",
      "377469   97.105.19.58  34  Bayes  2019-08-19  2020-01-30           3   \n",
      "377471   97.105.19.58  34  Bayes  2019-08-19  2020-01-30           3   \n",
      "377472   97.105.19.58  34  Bayes  2019-08-19  2020-01-30           3   \n",
      "377473   97.105.19.58  34  Bayes  2019-08-19  2020-01-30           3   \n",
      "377475   97.105.19.58  34  Bayes  2019-08-19  2020-01-30           3   \n",
      "377477   97.105.19.58  34  Bayes  2019-08-19  2020-01-30           3   \n",
      "378083   97.105.19.58  34  Bayes  2019-08-19  2020-01-30           3   \n",
      "378098   97.105.19.58  34  Bayes  2019-08-19  2020-01-30           3   \n",
      "378099   97.105.19.58  34  Bayes  2019-08-19  2020-01-30           3   \n",
      "378103   97.105.19.58  34  Bayes  2019-08-19  2020-01-30           3   \n",
      "378128   97.105.19.58  34  Bayes  2019-08-19  2020-01-30           3   \n",
      "378562   97.105.19.58  34  Bayes  2019-08-19  2020-01-30           3   \n",
      "380297   97.105.19.58  34  Bayes  2019-08-19  2020-01-30           3   \n",
      "380299   97.105.19.58  34  Bayes  2019-08-19  2020-01-30           3   \n",
      "380300   97.105.19.58  34  Bayes  2019-08-19  2020-01-30           3   \n",
      "380301   97.105.19.58  34  Bayes  2019-08-19  2020-01-30           3   \n",
      "380306   97.105.19.58  34  Bayes  2019-08-19  2020-01-30           3   \n",
      "380435   97.105.19.58  34  Bayes  2019-08-19  2020-01-30           3   \n",
      "380438   97.105.19.58  34  Bayes  2019-08-19  2020-01-30           3   \n",
      "380439   97.105.19.58  34  Bayes  2019-08-19  2020-01-30           3   \n",
      "387753  136.50.49.145  34  Bayes  2019-08-19  2020-01-30           3   \n",
      "\n",
      "        php_cohort  fs_java_cohort  ds_cohort  front_end_cohort  \n",
      "328347           0               0          1                 0  \n",
      "330826           0               0          1                 0  \n",
      "330828           0               0          1                 0  \n",
      "330829           0               0          1                 0  \n",
      "330830           0               0          1                 0  \n",
      "330831           0               0          1                 0  \n",
      "330832           0               0          1                 0  \n",
      "330837           0               0          1                 0  \n",
      "330838           0               0          1                 0  \n",
      "330839           0               0          1                 0  \n",
      "330840           0               0          1                 0  \n",
      "377469           0               0          1                 0  \n",
      "377471           0               0          1                 0  \n",
      "377472           0               0          1                 0  \n",
      "377473           0               0          1                 0  \n",
      "377475           0               0          1                 0  \n",
      "377477           0               0          1                 0  \n",
      "378083           0               0          1                 0  \n",
      "378098           0               0          1                 0  \n",
      "378099           0               0          1                 0  \n",
      "378103           0               0          1                 0  \n",
      "378128           0               0          1                 0  \n",
      "378562           0               0          1                 0  \n",
      "380297           0               0          1                 0  \n",
      "380299           0               0          1                 0  \n",
      "380300           0               0          1                 0  \n",
      "380301           0               0          1                 0  \n",
      "380306           0               0          1                 0  \n",
      "380435           0               0          1                 0  \n",
      "380438           0               0          1                 0  \n",
      "380439           0               0          1                 0  \n",
      "387753           0               0          1                 0  \n",
      "\n"
     ]
    }
   ],
   "source": [
    "f.check_permissions(df, 'url_path')"
   ]
  },
  {
   "cell_type": "code",
   "execution_count": null,
   "id": "87dad159",
   "metadata": {},
   "outputs": [],
   "source": []
  },
  {
   "cell_type": "code",
   "execution_count": null,
   "id": "95a6b76e",
   "metadata": {},
   "outputs": [],
   "source": []
  },
  {
   "cell_type": "markdown",
   "id": "8b7cad3a",
   "metadata": {},
   "source": [
    "### 6. What topics are grads continuing to reference after graduation and into their jobs (for each program)?"
   ]
  },
  {
   "cell_type": "code",
   "execution_count": 8,
   "id": "10babfdf",
   "metadata": {},
   "outputs": [
    {
     "name": "stdout",
     "output_type": "stream",
     "text": [
      "javascript-i    736\n",
      "html-css        542\n",
      "spring          501\n",
      "java-iii        479\n",
      "java-ii         454\n",
      "Name: url_path, dtype: int64\n",
      "\n"
     ]
    }
   ],
   "source": [
    "f.post_grad(df, 1, 'url_path')"
   ]
  },
  {
   "cell_type": "code",
   "execution_count": 9,
   "id": "0db32976",
   "metadata": {},
   "outputs": [
    {
     "name": "stdout",
     "output_type": "stream",
     "text": [
      "javascript-i    4229\n",
      "spring          3760\n",
      "html-css        3136\n",
      "java-iii        3058\n",
      "java-ii         2985\n",
      "Name: url_path, dtype: int64\n",
      "\n"
     ]
    }
   ],
   "source": [
    "f.post_grad(df, 2, 'url_path')"
   ]
  },
  {
   "cell_type": "code",
   "execution_count": 10,
   "id": "b075c07e",
   "metadata": {},
   "outputs": [
    {
     "name": "stdout",
     "output_type": "stream",
     "text": [
      "sql/mysql-overview                                275\n",
      "classification/overview                           266\n",
      "classification/scale_features_or_not.svg          219\n",
      "anomaly-detection/AnomalyDetectionCartoon.jpeg    193\n",
      "anomaly-detection/overview                        191\n",
      "Name: url_path, dtype: int64\n",
      "\n"
     ]
    }
   ],
   "source": [
    "f.post_grad(df, 3, 'url_path')"
   ]
  },
  {
   "cell_type": "code",
   "execution_count": 11,
   "id": "1564212a",
   "metadata": {},
   "outputs": [
    {
     "name": "stdout",
     "output_type": "stream",
     "text": [
      "content/html-css                               2\n",
      "content/html-css/gitbook/images/favicon.ico    1\n",
      "content/html-css/introduction.html             1\n",
      "Name: url_path, dtype: int64\n",
      "\n"
     ]
    }
   ],
   "source": [
    "f.post_grad(df, 4, 'url_path')"
   ]
  },
  {
   "cell_type": "code",
   "execution_count": null,
   "id": "44b5aa48",
   "metadata": {},
   "outputs": [],
   "source": []
  },
  {
   "cell_type": "markdown",
   "id": "f5075be4",
   "metadata": {},
   "source": [
    "### 7. Which lessons are least accessed?"
   ]
  },
  {
   "cell_type": "code",
   "execution_count": 12,
   "id": "038bb1d8",
   "metadata": {},
   "outputs": [
    {
     "name": "stdout",
     "output_type": "stream",
     "text": [
      "content/appendix/further-reading/gitbook/images/favicon.ico    6\n",
      "2.03.06_CorrelationTests                                       6\n",
      "servlets                                                       6\n",
      "Name: url_path, dtype: int64\n",
      "\n"
     ]
    }
   ],
   "source": [
    "f.least_total(df, 'url_path', 3, 5)"
   ]
  },
  {
   "cell_type": "code",
   "execution_count": 13,
   "id": "ec38f50d",
   "metadata": {},
   "outputs": [
    {
     "name": "stdout",
     "output_type": "stream",
     "text": [
      "url_path               name     url_path             \n",
      "mysql/sample-database  Hampton  mysql/sample-database    6\n",
      "Name: url_path, dtype: int64\n",
      "\n",
      "url_path                   name   url_path                 \n",
      "prework/cli/03-file-paths  Teddy  prework/cli/03-file-paths    6\n",
      "Name: url_path, dtype: int64\n",
      "\n",
      "url_path                               name     url_path                             \n",
      "examples/javascript/dom-query-js.html  Sequoia  examples/javascript/dom-query-js.html    6\n",
      "Name: url_path, dtype: int64\n",
      "\n",
      "url_path                                  name    url_path                                \n",
      "prework/cli/04-navigating-the-filesystem  Arches  prework/cli/04-navigating-the-filesystem    6\n",
      "Name: url_path, dtype: int64\n",
      "\n",
      "url_path                name     url_path              \n",
      "appendix/documentation  Niagara  appendix/documentation    6\n",
      "Name: url_path, dtype: int64\n",
      "\n",
      "url_path                             name       url_path                           \n",
      "javascript-i/bom-and-dom/dom-events  Pinnacles  javascript-i/bom-and-dom/dom-events    6\n",
      "Name: url_path, dtype: int64\n",
      "\n",
      "url_path  name    url_path\n",
      "appendix  Quincy  appendix    6\n",
      "Name: url_path, dtype: int64\n",
      "\n",
      "url_path                             name   url_path                           \n",
      "content/javascript_ii/ajax-api.html  Kings  content/javascript_ii/ajax-api.html    6\n",
      "Name: url_path, dtype: int64\n",
      "\n",
      "url_path                                           name    url_path                                         \n",
      "content/html-css/css-i/gitbook/images/favicon.ico  Lassen  content/html-css/css-i/gitbook/images/favicon.ico    6\n",
      "Name: url_path, dtype: int64\n",
      "\n",
      "url_path                              name     url_path                            \n",
      "java-ii/inheritance-and-polymorphism  Mammoth  java-ii/inheritance-and-polymorphism    6\n",
      "Name: url_path, dtype: int64\n",
      "\n",
      "url_path                                       name     url_path                                     \n",
      "content/javascript/gitbook/images/favicon.ico  Glacier  content/javascript/gitbook/images/favicon.ico    6\n",
      "Name: url_path, dtype: int64\n",
      "\n",
      "Series([], Name: url_path, dtype: int64)\n",
      "\n",
      "url_path     name    url_path   \n",
      "content/git  Joshua  content/git    6\n",
      "Name: url_path, dtype: int64\n",
      "\n",
      "url_path                  name     url_path                \n",
      "content/php_iv/ad-lister  Olympic  content/php_iv/ad-lister    6\n",
      "Name: url_path, dtype: int64\n",
      "\n",
      "url_path                                  name     url_path                                \n",
      "content/php_iii/include-and-require.html  Ulysses  content/php_iii/include-and-require.html    6\n",
      "Name: url_path, dtype: int64\n",
      "\n",
      "url_path                     name      url_path                   \n",
      "content/php_ii/command-line  Badlands  content/php_ii/command-line    6\n",
      "Name: url_path, dtype: int64\n",
      "\n",
      "Series([], Name: url_path, dtype: int64)\n",
      "\n",
      "url_path        name  url_path      \n",
      "html-css/css-i  Ike   html-css/css-i    6\n",
      "Name: url_path, dtype: int64\n",
      "\n",
      "url_path        name       url_path      \n",
      "content/php_ii  Voyageurs  content/php_ii    6\n",
      "Name: url_path, dtype: int64\n",
      "\n",
      "url_path                               name      url_path                             \n",
      "examples/postwork/data_extraction.zip  Wrangell  examples/postwork/data_extraction.zip    6\n",
      "Name: url_path, dtype: int64\n",
      "\n",
      "url_path                     name    url_path                   \n",
      "appendix/angular/templating  Xanadu  appendix/angular/templating    6\n",
      "Name: url_path, dtype: int64\n",
      "\n",
      "url_path           name      url_path         \n",
      "javascript-ii/es6  Franklin  javascript-ii/es6    10\n",
      "Name: url_path, dtype: int64\n",
      "\n",
      "url_path                                   name      url_path                                 \n",
      "content/php_i/intro-via-interactive-shell  Yosemite  content/php_i/intro-via-interactive-shell    6\n",
      "Name: url_path, dtype: int64\n",
      "\n",
      "url_path          name   url_path        \n",
      "BuiltIn_Datasets  Staff  BuiltIn_Datasets    6\n",
      "Name: url_path, dtype: int64\n",
      "\n",
      "url_path                     name  url_path                   \n",
      "prework/cli/06-moving-files  Zion  prework/cli/06-moving-files    6\n",
      "Name: url_path, dtype: int64\n",
      "\n",
      "url_path                                        name       url_path                                      \n",
      "appendix/professional-development/cover-letter  Andromeda  appendix/professional-development/cover-letter    6\n",
      "Name: url_path, dtype: int64\n",
      "\n",
      "url_path                                                                name        url_path                                                              \n",
      "content/php_i/intro-via-interactive-shell/doing-math-in-the-shell.html  Betelgeuse  content/php_i/intro-via-interactive-shell/doing-math-in-the-shell.html    6\n",
      "Name: url_path, dtype: int64\n",
      "\n",
      "url_path                   name   url_path                 \n",
      "html-css/css-i/css-resets  Ceres  html-css/css-i/css-resets    6\n",
      "Name: url_path, dtype: int64\n",
      "\n",
      "url_path                 name   url_path               \n",
      "nlp/regular-expressions  Bayes  nlp/regular-expressions    6\n",
      "Name: url_path, dtype: int64\n",
      "\n",
      "url_path                     name    url_path                   \n",
      "prework/cli/06-moving-files  Deimos  prework/cli/06-moving-files    6\n",
      "Name: url_path, dtype: int64\n",
      "\n",
      "url_path                               name    url_path                             \n",
      "examples/postwork/data_extraction.zip  Europa  examples/postwork/data_extraction.zip    6\n",
      "Name: url_path, dtype: int64\n",
      "\n",
      "url_path                    name     url_path                  \n",
      "appendix/spring/pagination  Fortuna  appendix/spring/pagination    6\n",
      "Name: url_path, dtype: int64\n",
      "\n",
      "url_path                      name   url_path                    \n",
      "distributed-ml/ml-with-spark  Curie  distributed-ml/ml-with-spark    6\n",
      "Name: url_path, dtype: int64\n",
      "\n",
      "url_path                     name  url_path                   \n",
      "appendix/angular/templating  Apex  appendix/angular/templating    6\n",
      "Name: url_path, dtype: int64\n",
      "\n",
      "url_path       name      url_path     \n",
      "slides/arrays  Ganymede  slides/arrays    7\n",
      "Name: url_path, dtype: int64\n",
      "\n",
      "Series([], Name: url_path, dtype: int64)\n",
      "\n",
      "url_path                                  name      url_path                                \n",
      "appendix/further-reading/javascript/this  Hyperion  appendix/further-reading/javascript/this    6\n",
      "Name: url_path, dtype: int64\n",
      "\n",
      "url_path        name    url_path      \n",
      "5-stats/viz.py  Darden  5-stats/viz.py    6\n",
      "Name: url_path, dtype: int64\n",
      "\n",
      "url_path                  name  url_path                \n",
      "web-design/ui/typography  Bash  web-design/ui/typography    6\n",
      "Name: url_path, dtype: int64\n",
      "\n",
      "url_path                                     name     url_path                                   \n",
      "appendix/further-reading/security-use-cases  Jupiter  appendix/further-reading/security-use-cases    6\n",
      "Name: url_path, dtype: int64\n",
      "\n",
      "url_path                  name     url_path                \n",
      "web-design/ui/typography  Kalypso  web-design/ui/typography    6\n",
      "Name: url_path, dtype: int64\n",
      "\n",
      "url_path                            name  url_path                          \n",
      "slides/object_oriented_programming  Luna  slides/object_oriented_programming    6\n",
      "Name: url_path, dtype: int64\n",
      "\n",
      "url_path                        name    url_path                      \n",
      "advanced-topics/json-responses  Easley  advanced-topics/json-responses    6\n",
      "Name: url_path, dtype: int64\n",
      "\n",
      "url_path              name   url_path            \n",
      "web-design/ux/layout  Marco  web-design/ux/layout    6\n",
      "Name: url_path, dtype: int64\n",
      "\n",
      "url_path                             name     url_path                           \n",
      "javascript-i/bom-and-dom/dom-events  Neptune  javascript-i/bom-and-dom/dom-events    6\n",
      "Name: url_path, dtype: int64\n",
      "\n",
      "url_path                       name      url_path                     \n",
      "appendix/ds-environment-setup  Florence  appendix/ds-environment-setup    6\n",
      "Name: url_path, dtype: int64\n",
      "\n",
      "url_path                  name    url_path                \n",
      "search/search_index.json  Oberon  search/search_index.json    9\n",
      "Name: url_path, dtype: int64\n",
      "\n"
     ]
    }
   ],
   "source": [
    "f.least_cohort(df, 'url_path', 1, 5)"
   ]
  },
  {
   "cell_type": "code",
   "execution_count": null,
   "id": "cee91567",
   "metadata": {},
   "outputs": [],
   "source": []
  }
 ],
 "metadata": {
  "kernelspec": {
   "display_name": "Python 3 (ipykernel)",
   "language": "python",
   "name": "python3"
  },
  "language_info": {
   "codemirror_mode": {
    "name": "ipython",
    "version": 3
   },
   "file_extension": ".py",
   "mimetype": "text/x-python",
   "name": "python",
   "nbconvert_exporter": "python",
   "pygments_lexer": "ipython3",
   "version": "3.9.13"
  }
 },
 "nbformat": 4,
 "nbformat_minor": 5
}
